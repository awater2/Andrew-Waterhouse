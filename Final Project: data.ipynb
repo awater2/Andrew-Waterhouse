{
    "nbformat_minor": 1, 
    "cells": [
        {
            "source": "# The Battle of the Neighborhoods", 
            "cell_type": "markdown", 
            "metadata": {}
        }, 
        {
            "source": "## Introduction/Business Problem", 
            "cell_type": "markdown", 
            "metadata": {
                "collapsed": true
            }
        }, 
        {
            "source": "The leadership group of a Gaming group want to set up a gaming arcade in the United States. They want to figure out where the best place would be to install an arcade. The group wants to maximize the number of customers interested in coming to the arcade, and find possible cities that demonstrate high values (weights) for an arcade.\n\nSome things we will need to consider:\n\n- Firstly, we should know why to start off with a place in particular?\n\n\n- If a place is chosen, we must have a very clear understanding of who the potential customers be?\n\n\n- We need to have a clear understanding of the customers spending patterns in that locality etc.\n\n\n- Last but not the least, we need to take care of the legal aspects involved in that locality.", 
            "cell_type": "markdown", 
            "metadata": {}
        }, 
        {
            "source": "## Data", 
            "cell_type": "markdown", 
            "metadata": {}
        }, 
        {
            "source": "Tools needed for data:\n- Foursquare API\n- IBM Watson Account\n- List of United States countries by per capita income\n- List of United States cities by population\n- Jupiter Notebooks\n\nThe data will be extracted from multiple sources:\n\n- https://en.wikipedia.org/wiki/List_of_United_States_cities_by_population\n\n- https://en.wikipedia.org/wiki/List_of_United_States_counties_by_per_capita_income\n\n- Foursquare API data on venues.", 
            "cell_type": "markdown", 
            "metadata": {}
        }, 
        {
            "source": "### A brief on the data", 
            "cell_type": "markdown", 
            "metadata": {}
        }, 
        {
            "source": "Here's some brief about the locaions in particular(source: wikipedia):\n\nAs defined by the United States Census Bureau, an \"incorporated place\" includes a variety of designations, including city, town, village, borough, and municipality. A few exceptional census-designated places (CDPs) are also included in the Census Bureau's listing of incorporated places. Consolidated city-counties represent a distinct type of government that includes the entire population of a county, or county equivalent. Some consolidated city-counties, however, include multiple incorporated places.\n\nAbout the State income levels: State income levels and income data for the United States as a whole are included for comparison. Note that county-equivalents in Louisiana are called \"parishes\" and in Alaska are called in \"boroughs,\" and also that in Alaska census areas in the Unorganized Borough are county-equivalents. For states where independent cities are county-equivalents, the word \"city\" is included to identify the independent cities and to differentiate them from counties with identical names; the counties with the identical names have the word \"county\" following them. The word \"county\" is included in the names of counties that have names identical to the names of U.S. states or cities to differentiate them.", 
            "cell_type": "markdown", 
            "metadata": {}
        }, 
        {
            "source": "", 
            "cell_type": "code", 
            "execution_count": null, 
            "outputs": [], 
            "metadata": {}
        }
    ], 
    "nbformat": 4, 
    "metadata": {
        "kernelspec": {
            "display_name": "Python 3.6", 
            "name": "python3", 
            "language": "python"
        }, 
        "language_info": {
            "mimetype": "text/x-python", 
            "nbconvert_exporter": "python", 
            "version": "3.6.8", 
            "name": "python", 
            "pygments_lexer": "ipython3", 
            "file_extension": ".py", 
            "codemirror_mode": {
                "version": 3, 
                "name": "ipython"
            }
        }
    }
}