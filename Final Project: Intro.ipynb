{
    "nbformat_minor": 1, 
    "cells": [
        {
            "source": "# The Battle of the Neighborhoods", 
            "cell_type": "markdown", 
            "metadata": {}
        }, 
        {
            "source": "## Introduction/Business Problem", 
            "cell_type": "markdown", 
            "metadata": {
                "collapsed": true
            }
        }, 
        {
            "source": "The leadership group of a Gaming group want to set up a gaming arcade in the United States. They want to figure out where the best place would be to install an arcade. The group wants to maximize the number of customers interested in coming to the arcade, and find possible cities that demonstrate high values (weights) for an arcade.\n\nSome things we will need to consider:\n\n- Firstly, we should know why to start off with a place in particular?\n\n\n- If a place is chosen, we must have a very clear understanding of who the potential customers be?\n\n\n- We need to have a clear understanding of the customers spending patterns in that locality etc.\n\n\n- Last but not the least, we need to take care of the legal aspects involved in that locality.", 
            "cell_type": "markdown", 
            "metadata": {}
        }, 
        {
            "source": "", 
            "cell_type": "code", 
            "execution_count": null, 
            "outputs": [], 
            "metadata": {}
        }
    ], 
    "nbformat": 4, 
    "metadata": {
        "kernelspec": {
            "display_name": "Python 3.6", 
            "name": "python3", 
            "language": "python"
        }, 
        "language_info": {
            "mimetype": "text/x-python", 
            "nbconvert_exporter": "python", 
            "version": "3.6.8", 
            "name": "python", 
            "pygments_lexer": "ipython3", 
            "file_extension": ".py", 
            "codemirror_mode": {
                "version": 3, 
                "name": "ipython"
            }
        }
    }
}